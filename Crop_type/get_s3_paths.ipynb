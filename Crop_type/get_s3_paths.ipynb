{
 "cells": [
  {
   "cell_type": "code",
   "execution_count": 1,
   "id": "4b1ffb3d",
   "metadata": {},
   "outputs": [],
   "source": [
    "import pandas as pd"
   ]
  },
  {
   "cell_type": "code",
   "execution_count": 2,
   "id": "c11f00c3",
   "metadata": {},
   "outputs": [],
   "source": [
    "df = pd.read_csv('s3_paths.csv')"
   ]
  },
  {
   "cell_type": "code",
   "execution_count": 3,
   "id": "56ea0345",
   "metadata": {},
   "outputs": [],
   "source": [
    "first_tile = df[df['product_name'] == 'S2A_MSIL2A_20190504T135121_N0211_R024_T22MCT_20190504T160455']"
   ]
  },
  {
   "cell_type": "code",
   "execution_count": 6,
   "id": "d82adb1d",
   "metadata": {},
   "outputs": [],
   "source": [
    "mask_path = first_tile[first_tile['artefact_name']=='cloud_mask']['artefact_path']"
   ]
  }
 ],
 "metadata": {
  "kernelspec": {
   "display_name": "Python 3 (ipykernel)",
   "language": "python",
   "name": "python3"
  },
  "language_info": {
   "codemirror_mode": {
    "name": "ipython",
    "version": 3
   },
   "file_extension": ".py",
   "mimetype": "text/x-python",
   "name": "python",
   "nbconvert_exporter": "python",
   "pygments_lexer": "ipython3",
   "version": "3.8.10"
  }
 },
 "nbformat": 4,
 "nbformat_minor": 5
}
